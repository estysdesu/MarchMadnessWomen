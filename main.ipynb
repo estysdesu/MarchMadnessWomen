{
 "cells": [
  {
   "cell_type": "code",
   "execution_count": 2,
   "metadata": {},
   "outputs": [],
   "source": [
    "# Dockerfile replaces need for requirements.txt, but as secondary source\n",
    "# !pip freeze >> requirements.txt"
   ]
  },
  {
   "cell_type": "code",
   "execution_count": 13,
   "metadata": {},
   "outputs": [],
   "source": [
    "# import modules\n",
    "import pandas as pd\n",
    "import numpy as np\n",
    "import chartify as ch"
   ]
  },
  {
   "cell_type": "code",
   "execution_count": 46,
   "metadata": {},
   "outputs": [
    {
     "data": {
      "text/html": [
       "<div>\n",
       "<style scoped>\n",
       "    .dataframe tbody tr th:only-of-type {\n",
       "        vertical-align: middle;\n",
       "    }\n",
       "\n",
       "    .dataframe tbody tr th {\n",
       "        vertical-align: top;\n",
       "    }\n",
       "\n",
       "    .dataframe thead th {\n",
       "        text-align: right;\n",
       "    }\n",
       "</style>\n",
       "<table border=\"1\" class=\"dataframe\">\n",
       "  <thead>\n",
       "    <tr style=\"text-align: right;\">\n",
       "      <th></th>\n",
       "      <th>Season</th>\n",
       "      <th>DayNum</th>\n",
       "      <th>WTeamID</th>\n",
       "      <th>WScore</th>\n",
       "      <th>LTeamID</th>\n",
       "      <th>LScore</th>\n",
       "      <th>WLoc</th>\n",
       "      <th>NumOT</th>\n",
       "    </tr>\n",
       "  </thead>\n",
       "  <tbody>\n",
       "    <tr>\n",
       "      <th>0</th>\n",
       "      <td>1998</td>\n",
       "      <td>18</td>\n",
       "      <td>3104</td>\n",
       "      <td>91</td>\n",
       "      <td>3202</td>\n",
       "      <td>41</td>\n",
       "      <td>H</td>\n",
       "      <td>0</td>\n",
       "    </tr>\n",
       "    <tr>\n",
       "      <th>1</th>\n",
       "      <td>1998</td>\n",
       "      <td>18</td>\n",
       "      <td>3163</td>\n",
       "      <td>87</td>\n",
       "      <td>3221</td>\n",
       "      <td>76</td>\n",
       "      <td>H</td>\n",
       "      <td>0</td>\n",
       "    </tr>\n",
       "    <tr>\n",
       "      <th>2</th>\n",
       "      <td>1998</td>\n",
       "      <td>18</td>\n",
       "      <td>3222</td>\n",
       "      <td>66</td>\n",
       "      <td>3261</td>\n",
       "      <td>59</td>\n",
       "      <td>H</td>\n",
       "      <td>0</td>\n",
       "    </tr>\n",
       "    <tr>\n",
       "      <th>3</th>\n",
       "      <td>1998</td>\n",
       "      <td>18</td>\n",
       "      <td>3307</td>\n",
       "      <td>69</td>\n",
       "      <td>3365</td>\n",
       "      <td>62</td>\n",
       "      <td>H</td>\n",
       "      <td>0</td>\n",
       "    </tr>\n",
       "    <tr>\n",
       "      <th>4</th>\n",
       "      <td>1998</td>\n",
       "      <td>18</td>\n",
       "      <td>3349</td>\n",
       "      <td>115</td>\n",
       "      <td>3411</td>\n",
       "      <td>35</td>\n",
       "      <td>H</td>\n",
       "      <td>0</td>\n",
       "    </tr>\n",
       "  </tbody>\n",
       "</table>\n",
       "</div>"
      ],
      "text/plain": [
       "   Season  DayNum  WTeamID  WScore  LTeamID  LScore WLoc  NumOT\n",
       "0    1998      18     3104      91     3202      41    H      0\n",
       "1    1998      18     3163      87     3221      76    H      0\n",
       "2    1998      18     3222      66     3261      59    H      0\n",
       "3    1998      18     3307      69     3365      62    H      0\n",
       "4    1998      18     3349     115     3411      35    H      0"
      ]
     },
     "execution_count": 46,
     "metadata": {},
     "output_type": "execute_result"
    }
   ],
   "source": [
    "# load and manipulate datasets\n",
    "dfTeams = pd.read_csv(\"./WDataFiles/WTeams.csv\")\n",
    "dfSeason = pd.read_csv(\"./WDataFiles/WRegularSeasonCompactResults.csv\")\n",
    "dfTourney = pd.read_csv(\"./WDataFiles/WNCAATourneyCompactResults.csv\")\n",
    "dfSeason.head()"
   ]
  },
  {
   "cell_type": "code",
   "execution_count": 43,
   "metadata": {},
   "outputs": [
    {
     "data": {
      "text/plain": [
       "'\\nTODO:\\n# turn df into df of lists (ex: 3101 = [wins, losses])\\n# create matchup of all teams \\n# create matchup score (3101 - 3141)\\n# create list of winner of matchup (ex: [1] if team1 wins [0] if team2 wins)\\n'"
      ]
     },
     "execution_count": 43,
     "metadata": {},
     "output_type": "execute_result"
    }
   ],
   "source": [
    "# focus on team wins losses\n",
    "# newDf: teamId, wins, losses\n",
    "def winLossCnt(df):\n",
    "    dfWinLoss = dfTeams[[\"TeamID\"]].copy()\n",
    "    dfWinLoss = dfWinLoss.reindex(columns = [\"TeamID\",\"wins\",\"losses\"], fill_value=0) # create columns and init w/ 0s\n",
    "    dfWinLoss = dfWinLoss.rename(columns={\"TeamID\": \"teamId\"}) # camelCase\n",
    "\n",
    "    # find indx of winTeam & loseTeam and add one to their column counts\n",
    "    for index, row in df.iterrows():\n",
    "        winTeam = row[\"WTeamID\"]\n",
    "        loseTeam = row[\"LTeamID\"]\n",
    "        dfWinLoss.loc[(dfWinLoss[\"teamId\"] == winTeam), (\"wins\")] += 1\n",
    "        dfWinLoss.loc[(dfWinLoss[\"teamId\"] == loseTeam), (\"losses\")] += 1\n",
    "        \n",
    "    return dfWinLoss\n",
    "\n",
    "# focus on 2018 data\n",
    "season = 2018\n",
    "dfOneSeason = dfSeason.loc[dfSeason['Season'] == season]\n",
    "dfOneTourney = dfTourney.loc[dfTourney['Season'] == season]\n",
    "\n",
    "dfWinLoss = winLossCnt(dfOneSeason)\n",
    "\n",
    "\"\"\"\n",
    "TODO:\n",
    "* change iterrows to df.loc[where winTeamId == teamId] then get length of this\n",
    "* df[df.A > 0]\n",
    "* turn df into df of lists (ex: 3101 = [wins, losses])\n",
    "* create matchup of all teams \n",
    "* create matchup score (3101 - 3141)\n",
    "* create list of winner of matchup (ex: [1] if team1 wins [0] if team2 wins)\n",
    "\n",
    "* features to add: PPG, allowed PPG, steals, turnovers, rebounds, assists, FG%, home/away/neutral, conference (1-whatever), title in last 4 yrs?, \n",
    "+ https://adeshpande3.github.io/Applying-Machine-Learning-to-March-Madness\n",
    "\"\"\"\n"
   ]
  },
  {
   "cell_type": "code",
   "execution_count": 33,
   "metadata": {},
   "outputs": [],
   "source": [
    "from sklearn.model_selection import train_test_split\n",
    "\n",
    "# feature selection\n",
    "X = \n",
    "# target\n",
    "y\n",
    "X_train, X_test, y_train, y_test = train_test_split(X, y, test_size=0.25, random_state=6)"
   ]
  },
  {
   "cell_type": "code",
   "execution_count": null,
   "metadata": {},
   "outputs": [],
   "source": [
    "from sklearn.linear_model import LogisticRegression"
   ]
  }
 ],
 "metadata": {
  "kernelspec": {
   "display_name": "Python 3",
   "language": "python",
   "name": "python3"
  },
  "language_info": {
   "codemirror_mode": {
    "name": "ipython",
    "version": 3
   },
   "file_extension": ".py",
   "mimetype": "text/x-python",
   "name": "python",
   "nbconvert_exporter": "python",
   "pygments_lexer": "ipython3",
   "version": "3.7.1"
  }
 },
 "nbformat": 4,
 "nbformat_minor": 2
}
