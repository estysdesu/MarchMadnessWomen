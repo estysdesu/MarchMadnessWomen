{
 "cells": [
  {
   "cell_type": "code",
   "execution_count": 35,
   "metadata": {},
   "outputs": [],
   "source": [
    "# import modules\n",
    "import pandas as pd\n",
    "import numpy as np\n",
    "from sklearn.model_selection import train_test_split\n",
    "from sklearn.linear_model import LogisticRegression\n",
    "from sklearn.ensemble import GradientBoostingRegressor\n",
    "from sklearn.metrics import accuracy_score, precision_score, r2_score, mean_absolute_error\n"
   ]
  },
  {
   "cell_type": "code",
   "execution_count": 24,
   "metadata": {},
   "outputs": [
    {
     "name": "stdout",
     "output_type": "stream",
     "text": [
      "<class 'pandas.core.frame.DataFrame'>\n",
      "Int64Index: 45838 entries, 0 to 46341\n",
      "Data columns (total 14 columns):\n",
      "Season        45838 non-null int64\n",
      "Team1         45838 non-null int64\n",
      "Team2         45838 non-null int64\n",
      "Pred          45838 non-null float64\n",
      "Location      45838 non-null int64\n",
      "WinRatio      45838 non-null float64\n",
      "PPG           45838 non-null float64\n",
      "AllowedPPG    45838 non-null float64\n",
      "FGPer         45838 non-null float64\n",
      "Turnovers     45838 non-null float64\n",
      "Blocks        45838 non-null float64\n",
      "Rebounds      45838 non-null float64\n",
      "Assists       45838 non-null float64\n",
      "PerFouls      45838 non-null float64\n",
      "dtypes: float64(10), int64(4)\n",
      "memory usage: 5.2 MB\n"
     ]
    }
   ],
   "source": [
    "# load processed datasets\n",
    "dfDiffVecTraining = pd.read_csv(\"../data/processed/TrainingDataDifferenceVectors.csv\")\n",
    "dfDiffVecTraining.dropna(axis = 0, inplace = True)\n",
    "dfDiffVecPrediction = pd.read_csv(\"../data/processed/PredictionDataDifferenceVectors.csv\")\n",
    "dfDiffVecPrediction.dropna(axis = 0, inplace = True)\n",
    "\n",
    "dfDiffVecTraining.info()"
   ]
  },
  {
   "cell_type": "markdown",
   "metadata": {},
   "source": [
    "## Model Training"
   ]
  },
  {
   "cell_type": "code",
   "execution_count": 41,
   "metadata": {},
   "outputs": [
    {
     "name": "stdout",
     "output_type": "stream",
     "text": [
      "logRegMAE: 0.21215095986038393, gradBoostRegMAE: 0.2118237347294939\n"
     ]
    }
   ],
   "source": [
    "# feature selection\n",
    "x = dfDiffVecTraining.iloc[:, 4:-1]\n",
    "# target\n",
    "y = dfDiffVecTraining[\"Pred\"] \n",
    "\n",
    "xTrain, xTest, yTrain, yTest = train_test_split(x, y, test_size = 0.2, random_state = 6)\n",
    "\n",
    "logReg = LogisticRegression(solver = \"liblinear\")\n",
    "logReg.fit(xTrain, yTrain)\n",
    "logRegYPred = logReg.predict(xTest)\n",
    "logRegYPred = [round(y) for y in logRegYPred]\n",
    "logRegAcc = accuracy_score(yTest, logRegYPred) \n",
    "logRegPrec = precision_score(yTest, logRegYPred)\n",
    "logRegR2 = r2_score(yTest, logRegYPred)\n",
    "logRegMAE = mean_absolute_error(yTest, logRegYPred)\n",
    "\n",
    "gradBoostReg = GradientBoostingRegressor()\n",
    "gradBoostReg.fit(xTrain, yTrain)\n",
    "gradBoostRegYPred = gradBoostReg.predict(xTest)\n",
    "gradBoostRegYPred = [round(y) for y in gradBoostRegYPred]\n",
    "gradBoostRegAcc = accuracy_score(yTest, gradBoostRegYPred) \n",
    "gradBoostRegPrec = precision_score(yTest, gradBoostRegYPred)\n",
    "gradBoostRegR2 = r2_score(yTest, gradBoostRegYPred)\n",
    "gradBoostRegMAE = mean_absolute_error(yTest, gradBoostRegYPred)\n",
    "\n",
    "print(\"logRegMAE: {}, gradBoostRegMAE: {}\".format(logRegMAE, gradBoostRegMAE))"
   ]
  },
  {
   "cell_type": "markdown",
   "metadata": {},
   "source": [
    "## Predicting"
   ]
  },
  {
   "cell_type": "code",
   "execution_count": null,
   "metadata": {},
   "outputs": [],
   "source": [
    "x = dfDiffVecTraining.iloc[:, 4:-1]\n",
    "\n",
    "logRegYPred = logReg.predict(x)\n",
    "\n",
    "gradBoostYPred = gradBoostReg.predict(x)"
   ]
  },
  {
   "cell_type": "markdown",
   "metadata": {},
   "source": [
    "## Evaluate"
   ]
  },
  {
   "cell_type": "code",
   "execution_count": 22,
   "metadata": {},
   "outputs": [],
   "source": [
    "# which parameters affected more\n",
    "# how could be improved"
   ]
  },
  {
   "cell_type": "code",
   "execution_count": null,
   "metadata": {},
   "outputs": [],
   "source": []
  }
 ],
 "metadata": {
  "kernelspec": {
   "display_name": "Python 3",
   "language": "python",
   "name": "python3"
  },
  "language_info": {
   "codemirror_mode": {
    "name": "ipython",
    "version": 3
   },
   "file_extension": ".py",
   "mimetype": "text/x-python",
   "name": "python",
   "nbconvert_exporter": "python",
   "pygments_lexer": "ipython3",
   "version": "3.7.1"
  }
 },
 "nbformat": 4,
 "nbformat_minor": 2
}
