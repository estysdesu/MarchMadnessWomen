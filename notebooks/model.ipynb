{
 "cells": [
  {
   "cell_type": "code",
   "execution_count": 14,
   "metadata": {},
   "outputs": [],
   "source": [
    "# import modules\n",
    "import pandas as pd\n",
    "import numpy as np\n",
    "from sklearn.model_selection import train_test_split\n",
    "from sklearn.linear_model import LogisticRegression\n",
    "from sklearn.ensemble import GradientBoostingRegressor\n",
    "from sklearn.metrics import accuracy_score"
   ]
  },
  {
   "cell_type": "code",
   "execution_count": 2,
   "metadata": {},
   "outputs": [
    {
     "data": {
      "text/html": [
       "<div>\n",
       "<style scoped>\n",
       "    .dataframe tbody tr th:only-of-type {\n",
       "        vertical-align: middle;\n",
       "    }\n",
       "\n",
       "    .dataframe tbody tr th {\n",
       "        vertical-align: top;\n",
       "    }\n",
       "\n",
       "    .dataframe thead th {\n",
       "        text-align: right;\n",
       "    }\n",
       "</style>\n",
       "<table border=\"1\" class=\"dataframe\">\n",
       "  <thead>\n",
       "    <tr style=\"text-align: right;\">\n",
       "      <th></th>\n",
       "      <th>Season</th>\n",
       "      <th>Team1</th>\n",
       "      <th>Team2</th>\n",
       "      <th>WinRatio</th>\n",
       "      <th>PPG</th>\n",
       "      <th>AllowedPPG</th>\n",
       "      <th>Team1WinPer</th>\n",
       "    </tr>\n",
       "  </thead>\n",
       "  <tbody>\n",
       "    <tr>\n",
       "      <th>0</th>\n",
       "      <td>2014</td>\n",
       "      <td>3103</td>\n",
       "      <td>3194</td>\n",
       "      <td>0.174</td>\n",
       "      <td>5.349</td>\n",
       "      <td>-0.109</td>\n",
       "      <td>1.0</td>\n",
       "    </tr>\n",
       "    <tr>\n",
       "      <th>1</th>\n",
       "      <td>2014</td>\n",
       "      <td>3373</td>\n",
       "      <td>3107</td>\n",
       "      <td>-0.585</td>\n",
       "      <td>-10.233</td>\n",
       "      <td>14.214</td>\n",
       "      <td>0.0</td>\n",
       "    </tr>\n",
       "    <tr>\n",
       "      <th>2</th>\n",
       "      <td>2014</td>\n",
       "      <td>3358</td>\n",
       "      <td>3116</td>\n",
       "      <td>-0.204</td>\n",
       "      <td>-2.710</td>\n",
       "      <td>15.829</td>\n",
       "      <td>0.0</td>\n",
       "    </tr>\n",
       "    <tr>\n",
       "      <th>3</th>\n",
       "      <td>2014</td>\n",
       "      <td>3276</td>\n",
       "      <td>3132</td>\n",
       "      <td>-0.290</td>\n",
       "      <td>-1.065</td>\n",
       "      <td>8.226</td>\n",
       "      <td>0.0</td>\n",
       "    </tr>\n",
       "    <tr>\n",
       "      <th>4</th>\n",
       "      <td>2014</td>\n",
       "      <td>3133</td>\n",
       "      <td>3228</td>\n",
       "      <td>-0.009</td>\n",
       "      <td>2.184</td>\n",
       "      <td>7.022</td>\n",
       "      <td>1.0</td>\n",
       "    </tr>\n",
       "  </tbody>\n",
       "</table>\n",
       "</div>"
      ],
      "text/plain": [
       "   Season  Team1  Team2  WinRatio     PPG  AllowedPPG  Team1WinPer\n",
       "0    2014   3103   3194     0.174   5.349      -0.109          1.0\n",
       "1    2014   3373   3107    -0.585 -10.233      14.214          0.0\n",
       "2    2014   3358   3116    -0.204  -2.710      15.829          0.0\n",
       "3    2014   3276   3132    -0.290  -1.065       8.226          0.0\n",
       "4    2014   3133   3228    -0.009   2.184       7.022          1.0"
      ]
     },
     "execution_count": 2,
     "metadata": {},
     "output_type": "execute_result"
    }
   ],
   "source": [
    "# load processed datasets\n",
    "dfDiffVec = pd.read_csv(\"../data/processed/DifferenceVectors.csv\")\n",
    "dfDiffVec.head()"
   ]
  },
  {
   "cell_type": "markdown",
   "metadata": {},
   "source": [
    "\n",
    "\n",
    "## Model"
   ]
  },
  {
   "cell_type": "code",
   "execution_count": 6,
   "metadata": {},
   "outputs": [
    {
     "data": {
      "text/html": [
       "<div>\n",
       "<style scoped>\n",
       "    .dataframe tbody tr th:only-of-type {\n",
       "        vertical-align: middle;\n",
       "    }\n",
       "\n",
       "    .dataframe tbody tr th {\n",
       "        vertical-align: top;\n",
       "    }\n",
       "\n",
       "    .dataframe thead th {\n",
       "        text-align: right;\n",
       "    }\n",
       "</style>\n",
       "<table border=\"1\" class=\"dataframe\">\n",
       "  <thead>\n",
       "    <tr style=\"text-align: right;\">\n",
       "      <th></th>\n",
       "      <th>Season</th>\n",
       "      <th>Team1</th>\n",
       "      <th>Team2</th>\n",
       "      <th>WinRatio</th>\n",
       "      <th>PPG</th>\n",
       "      <th>AllowedPPG</th>\n",
       "      <th>Team1WinPer</th>\n",
       "    </tr>\n",
       "  </thead>\n",
       "  <tbody>\n",
       "    <tr>\n",
       "      <th>26090</th>\n",
       "      <td>2018</td>\n",
       "      <td>3195</td>\n",
       "      <td>3239</td>\n",
       "      <td>0.147</td>\n",
       "      <td>9.679</td>\n",
       "      <td>0.872</td>\n",
       "      <td>1.0</td>\n",
       "    </tr>\n",
       "    <tr>\n",
       "      <th>26091</th>\n",
       "      <td>2018</td>\n",
       "      <td>3251</td>\n",
       "      <td>3421</td>\n",
       "      <td>0.194</td>\n",
       "      <td>3.710</td>\n",
       "      <td>-5.226</td>\n",
       "      <td>1.0</td>\n",
       "    </tr>\n",
       "    <tr>\n",
       "      <th>26092</th>\n",
       "      <td>2018</td>\n",
       "      <td>3311</td>\n",
       "      <td>3372</td>\n",
       "      <td>-0.226</td>\n",
       "      <td>-4.515</td>\n",
       "      <td>4.922</td>\n",
       "      <td>1.0</td>\n",
       "    </tr>\n",
       "    <tr>\n",
       "      <th>26093</th>\n",
       "      <td>2018</td>\n",
       "      <td>3335</td>\n",
       "      <td>3343</td>\n",
       "      <td>-0.114</td>\n",
       "      <td>-3.071</td>\n",
       "      <td>1.441</td>\n",
       "      <td>0.0</td>\n",
       "    </tr>\n",
       "    <tr>\n",
       "      <th>26094</th>\n",
       "      <td>2018</td>\n",
       "      <td>3384</td>\n",
       "      <td>3352</td>\n",
       "      <td>-0.055</td>\n",
       "      <td>18.125</td>\n",
       "      <td>17.350</td>\n",
       "      <td>1.0</td>\n",
       "    </tr>\n",
       "  </tbody>\n",
       "</table>\n",
       "</div>"
      ],
      "text/plain": [
       "       Season  Team1  Team2  WinRatio     PPG  AllowedPPG  Team1WinPer\n",
       "26090    2018   3195   3239     0.147   9.679       0.872          1.0\n",
       "26091    2018   3251   3421     0.194   3.710      -5.226          1.0\n",
       "26092    2018   3311   3372    -0.226  -4.515       4.922          1.0\n",
       "26093    2018   3335   3343    -0.114  -3.071       1.441          0.0\n",
       "26094    2018   3384   3352    -0.055  18.125      17.350          1.0"
      ]
     },
     "execution_count": 6,
     "metadata": {},
     "output_type": "execute_result"
    }
   ],
   "source": [
    "# reduce dataset to only season to predict\n",
    "seasonToPred = 2018\n",
    "dfDiffVecRed = dfDiffVec.loc[dfDiffVec[\"Season\"] == seasonToPred]\n",
    "dfDiffVecRed.tail()"
   ]
  },
  {
   "cell_type": "code",
   "execution_count": 16,
   "metadata": {},
   "outputs": [
    {
     "data": {
      "text/plain": [
       "0.7658349328214972"
      ]
     },
     "execution_count": 16,
     "metadata": {},
     "output_type": "execute_result"
    }
   ],
   "source": [
    "# feature selection\n",
    "x = dfDiffVecRed.iloc[:, 3:-1] # drops Season, Team1, Team2, and Team1WinPer\n",
    "# target\n",
    "y = dfDiffVecRed.iloc[:, -1] # selects only Team1WinPer\n",
    "\n",
    "xTrain, xTest, yTrain, yTest = train_test_split(x, y, test_size = 0.2, random_state = 6)\n",
    "\n",
    "logReg = LogisticRegression(solver = \"liblinear\")\n",
    "logReg.fit(xTrain, yTrain)\n",
    "yPred = logReg.predict(xTest)\n",
    "# score = logReg.score(xTest, yTest)\n",
    "accu = accuracy_score(yTest, yPred) # bc the yPred needs to be rounded, my score metric needs to be one that uses the rounded win/loss number\n",
    "accu\n"
   ]
  },
  {
   "cell_type": "code",
   "execution_count": 15,
   "metadata": {},
   "outputs": [
    {
     "data": {
      "text/plain": [
       "0.7677543186180422"
      ]
     },
     "execution_count": 15,
     "metadata": {},
     "output_type": "execute_result"
    }
   ],
   "source": [
    "# feature selection\n",
    "x = dfDiffVecRed.iloc[:, 3:-1] # drops Season, Team1, Team2, and Team1WinPer\n",
    "# target\n",
    "y = dfDiffVecRed.iloc[:, -1] # selects only Team1WinPer\n",
    "\n",
    "xTrain, xTest, yTrain, yTest = train_test_split(x, y, test_size = 0.2, random_state = 6)\n",
    "\n",
    "GBReg = GradientBoostingRegressor()\n",
    "GBReg.fit(xTrain, yTrain)\n",
    "yPred = GBReg.predict(xTest)\n",
    "yPred = [round(y) for y in yPred]\n",
    "# score = GBReg.score(xTest, yTest) \n",
    "accu = accuracy_score(yTest, yPred) # bc the yPred needs to be rounded, my score metric needs to be one that uses the rounded win/loss number\n",
    "accu\n",
    "# score = GBReg.score(xTest, yTest)\n",
    "# score"
   ]
  },
  {
   "cell_type": "code",
   "execution_count": 32,
   "metadata": {},
   "outputs": [],
   "source": [
    "# read in possible matchup of teams needed to predict\n",
    "# ex. 2014_3103_3107, 2014_3103_3113, 2014_3103_3119\n",
    "dfPred = pd.read_csv('../data/raw/WSampleSubmissionStage1.csv')\n",
    "dfPred[\"Season\"] = dfPred[\"ID\"].apply(lambda x: x[0:4]).astype(int)\n",
    "dfPred[\"Team1\"] = dfPred[\"ID\"].apply(lambda x: x[5:9]).astype(int)\n",
    "dfPred[\"Team2\"] = dfPred[\"ID\"].apply(lambda x: x[10:14]).astype(int)\n",
    "dfPred = dfPred[[\"ID\",\"Season\",\"Team1\",\"Team2\",\"Pred\"]]\n",
    "dfPred.head()\n",
    "dfPred.to_csv(\"../data/interim/TeamPred.csv\", index=None, header=True)"
   ]
  },
  {
   "cell_type": "code",
   "execution_count": 33,
   "metadata": {},
   "outputs": [],
   "source": [
    "!pip freeze >> requirements.txt"
   ]
  },
  {
   "cell_type": "code",
   "execution_count": null,
   "metadata": {},
   "outputs": [],
   "source": []
  }
 ],
 "metadata": {
  "kernelspec": {
   "display_name": "Python 3",
   "language": "python",
   "name": "python3"
  },
  "language_info": {
   "codemirror_mode": {
    "name": "ipython",
    "version": 3
   },
   "file_extension": ".py",
   "mimetype": "text/x-python",
   "name": "python",
   "nbconvert_exporter": "python",
   "pygments_lexer": "ipython3",
   "version": "3.7.1"
  }
 },
 "nbformat": 4,
 "nbformat_minor": 2
}
