{
 "cells": [
  {
   "cell_type": "code",
   "execution_count": 1,
   "metadata": {},
   "outputs": [],
   "source": [
    "# import modules\n",
    "import pandas as pd\n",
    "import numpy as np"
   ]
  },
  {
   "cell_type": "code",
   "execution_count": 2,
   "metadata": {},
   "outputs": [
    {
     "data": {
      "text/html": [
       "<div>\n",
       "<style scoped>\n",
       "    .dataframe tbody tr th:only-of-type {\n",
       "        vertical-align: middle;\n",
       "    }\n",
       "\n",
       "    .dataframe tbody tr th {\n",
       "        vertical-align: top;\n",
       "    }\n",
       "\n",
       "    .dataframe thead th {\n",
       "        text-align: right;\n",
       "    }\n",
       "</style>\n",
       "<table border=\"1\" class=\"dataframe\">\n",
       "  <thead>\n",
       "    <tr style=\"text-align: right;\">\n",
       "      <th></th>\n",
       "      <th>Season</th>\n",
       "      <th>DayNum</th>\n",
       "      <th>WTeamID</th>\n",
       "      <th>WScore</th>\n",
       "      <th>LTeamID</th>\n",
       "      <th>LScore</th>\n",
       "      <th>WLoc</th>\n",
       "      <th>NumOT</th>\n",
       "    </tr>\n",
       "  </thead>\n",
       "  <tbody>\n",
       "    <tr>\n",
       "      <th>101888</th>\n",
       "      <td>2018</td>\n",
       "      <td>132</td>\n",
       "      <td>3195</td>\n",
       "      <td>68</td>\n",
       "      <td>3239</td>\n",
       "      <td>58</td>\n",
       "      <td>H</td>\n",
       "      <td>0</td>\n",
       "    </tr>\n",
       "    <tr>\n",
       "      <th>101889</th>\n",
       "      <td>2018</td>\n",
       "      <td>132</td>\n",
       "      <td>3251</td>\n",
       "      <td>60</td>\n",
       "      <td>3421</td>\n",
       "      <td>42</td>\n",
       "      <td>H</td>\n",
       "      <td>0</td>\n",
       "    </tr>\n",
       "    <tr>\n",
       "      <th>101890</th>\n",
       "      <td>2018</td>\n",
       "      <td>132</td>\n",
       "      <td>3311</td>\n",
       "      <td>69</td>\n",
       "      <td>3372</td>\n",
       "      <td>65</td>\n",
       "      <td>N</td>\n",
       "      <td>0</td>\n",
       "    </tr>\n",
       "    <tr>\n",
       "      <th>101891</th>\n",
       "      <td>2018</td>\n",
       "      <td>132</td>\n",
       "      <td>3343</td>\n",
       "      <td>63</td>\n",
       "      <td>3335</td>\n",
       "      <td>34</td>\n",
       "      <td>N</td>\n",
       "      <td>0</td>\n",
       "    </tr>\n",
       "    <tr>\n",
       "      <th>101892</th>\n",
       "      <td>2018</td>\n",
       "      <td>132</td>\n",
       "      <td>3384</td>\n",
       "      <td>66</td>\n",
       "      <td>3352</td>\n",
       "      <td>56</td>\n",
       "      <td>H</td>\n",
       "      <td>0</td>\n",
       "    </tr>\n",
       "  </tbody>\n",
       "</table>\n",
       "</div>"
      ],
      "text/plain": [
       "        Season  DayNum  WTeamID  WScore  LTeamID  LScore WLoc  NumOT\n",
       "101888    2018     132     3195      68     3239      58    H      0\n",
       "101889    2018     132     3251      60     3421      42    H      0\n",
       "101890    2018     132     3311      69     3372      65    N      0\n",
       "101891    2018     132     3343      63     3335      34    N      0\n",
       "101892    2018     132     3384      66     3352      56    H      0"
      ]
     },
     "execution_count": 2,
     "metadata": {},
     "output_type": "execute_result"
    }
   ],
   "source": [
    "# load raw datasets\n",
    "dfPred = pd.read_csv(\"../data/interim/TeamPred.csv\")\n",
    "dfStats = pd.read_csv(\"../data/interim/TeamStats.csv\")\n",
    "dfTourneyResults = pd.read_csv(\"../data/raw/WNCAATourneyCompactResults.csv\")\n",
    "dfSeasonResults = pd.read_csv(\"../data/raw/WRegularSeasonCompactResults.csv\")\n",
    "\n",
    "dfStats.loc[dfStats[\"Season\"]==2018].head()\n",
    "# dfPred.tail()\n",
    "# dfTourneyResults.tail()\n",
    "dfSeasonResults.tail()"
   ]
  },
  {
   "cell_type": "code",
   "execution_count": 3,
   "metadata": {},
   "outputs": [
    {
     "data": {
      "text/plain": [
       "array([[12, 14]])"
      ]
     },
     "execution_count": 3,
     "metadata": {},
     "output_type": "execute_result"
    }
   ],
   "source": [
    "# get the team stats vector given season & id number\n",
    "def getTeamVec(dfStats, Season, TeamID): \n",
    "    dfReduced = dfStats.loc[(dfStats[\"Season\"]==Season) & (dfStats[\"TeamID\"]==TeamID)]\n",
    "    teamVec = dfReduced.iloc[:,2:].to_numpy()\n",
    "    return teamVec\n",
    "\n",
    "# test\n",
    "teamVec = getTeamVec(dfStats, 2018, 3101)\n",
    "teamVec"
   ]
  },
  {
   "cell_type": "code",
   "execution_count": 19,
   "metadata": {},
   "outputs": [
    {
     "ename": "NameError",
     "evalue": "name 'np' is not defined",
     "output_type": "error",
     "traceback": [
      "\u001b[0;31m---------------------------------------------------------------------------\u001b[0m",
      "\u001b[0;31mNameError\u001b[0m                                 Traceback (most recent call last)",
      "\u001b[0;32m<ipython-input-19-48901c5f90a7>\u001b[0m in \u001b[0;36m<module>\u001b[0;34m\u001b[0m\n\u001b[1;32m     20\u001b[0m                                                            \u001b[0;34m|\u001b[0m \u001b[0;34m(\u001b[0m\u001b[0mdfSeasonResults\u001b[0m\u001b[0;34m[\u001b[0m\u001b[0;34m\"Season\"\u001b[0m\u001b[0;34m]\u001b[0m\u001b[0;34m==\u001b[0m\u001b[0mseasons\u001b[0m\u001b[0;34m[\u001b[0m\u001b[0;36m3\u001b[0m\u001b[0;34m]\u001b[0m\u001b[0;34m)\u001b[0m\u001b[0;34m\u001b[0m\u001b[0;34m\u001b[0m\u001b[0m\n\u001b[1;32m     21\u001b[0m                                                            | (dfSeasonResults[\"Season\"]==seasons[4])])\n\u001b[0;32m---> 22\u001b[0;31m \u001b[0mdfVectors\u001b[0m \u001b[0;34m=\u001b[0m \u001b[0mpd\u001b[0m\u001b[0;34m.\u001b[0m\u001b[0mDataFrame\u001b[0m\u001b[0;34m(\u001b[0m\u001b[0;34m[\u001b[0m\u001b[0mnp\u001b[0m\u001b[0;34m.\u001b[0m\u001b[0marray\u001b[0m\u001b[0;34m(\u001b[0m\u001b[0mdiffVec\u001b[0m\u001b[0;34m)\u001b[0m\u001b[0;34m,\u001b[0m \u001b[0mnp\u001b[0m\u001b[0;34m.\u001b[0m\u001b[0marray\u001b[0m\u001b[0;34m(\u001b[0m\u001b[0mwinVec\u001b[0m\u001b[0;34m)\u001b[0m\u001b[0;34m]\u001b[0m\u001b[0;34m)\u001b[0m\u001b[0;34m.\u001b[0m\u001b[0mtranspose\u001b[0m\u001b[0;34m(\u001b[0m\u001b[0;34m)\u001b[0m\u001b[0;34m\u001b[0m\u001b[0;34m\u001b[0m\u001b[0m\n\u001b[0m\u001b[1;32m     23\u001b[0m \u001b[0mdfVectors\u001b[0m\u001b[0;34m.\u001b[0m\u001b[0mcolumns\u001b[0m \u001b[0;34m=\u001b[0m \u001b[0;34m[\u001b[0m\u001b[0;34m\"DiffVec\"\u001b[0m\u001b[0;34m,\u001b[0m\u001b[0;34m\"WinVec\"\u001b[0m\u001b[0;34m]\u001b[0m\u001b[0;34m\u001b[0m\u001b[0;34m\u001b[0m\u001b[0m\n\u001b[1;32m     24\u001b[0m \u001b[0mdfVectors\u001b[0m\u001b[0;34m.\u001b[0m\u001b[0mhead\u001b[0m\u001b[0;34m(\u001b[0m\u001b[0;34m)\u001b[0m\u001b[0;34m\u001b[0m\u001b[0;34m\u001b[0m\u001b[0m\n",
      "\u001b[0;31mNameError\u001b[0m: name 'np' is not defined"
     ]
    }
   ],
   "source": [
    "def makeDiffVec(dfStats, dfSeasonMatchups):\n",
    "    \n",
    "    diffVec = []\n",
    "    winVec = []\n",
    "    for index, row in dfSeasonMatchups.iterrows():\n",
    "        teamVecW = getTeamVec(dfStats, row[\"Season\"], row[\"WTeamID\"])\n",
    "        teamVecL = getTeamVec(dfStats, row[\"Season\"], row[\"LTeamID\"])\n",
    "        teamDiffVec = (teamVecW - teamVecL).ravel().tolist() # ravel flattens nparray first, then we can move tolist\n",
    "        teamWinVec = [1]\n",
    "        \n",
    "        diffVec.append(teamDiffVec)\n",
    "        winVec.append(teamWinVec)\n",
    "        \n",
    "    return diffVec, winVec\n",
    "    \n",
    "seasons = list(range(2014,2019))\n",
    "diffVec, winVec = makeDiffVec(dfStats, dfSeasonResults.loc[(dfSeasonResults[\"Season\"]==seasons[0]) \n",
    "                                                           | (dfSeasonResults[\"Season\"]==seasons[1]) \n",
    "                                                           | (dfSeasonResults[\"Season\"]==seasons[2])\n",
    "                                                           | (dfSeasonResults[\"Season\"]==seasons[3])\n",
    "                                                           | (dfSeasonResults[\"Season\"]==seasons[4])])\n",
    "dfVectors = pd.DataFrame([diffVec, winVec]).transpose()\n",
    "dfVectors.columns = [\"DiffVec\",\"WinVec\"]\n",
    "dfVectors.head()"
   ]
  },
  {
   "cell_type": "code",
   "execution_count": 18,
   "metadata": {},
   "outputs": [],
   "source": [
    "dfVectors.to_csv(\"../data/interim/TrainingVectors.csv\", index=None, header=True)"
   ]
  },
  {
   "cell_type": "code",
   "execution_count": null,
   "metadata": {},
   "outputs": [],
   "source": []
  }
 ],
 "metadata": {
  "kernelspec": {
   "display_name": "Python 3",
   "language": "python",
   "name": "python3"
  },
  "language_info": {
   "codemirror_mode": {
    "name": "ipython",
    "version": 3
   },
   "file_extension": ".py",
   "mimetype": "text/x-python",
   "name": "python",
   "nbconvert_exporter": "python",
   "pygments_lexer": "ipython3",
   "version": "3.7.1"
  }
 },
 "nbformat": 4,
 "nbformat_minor": 2
}
